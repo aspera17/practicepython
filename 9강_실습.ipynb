{
  "nbformat": 4,
  "nbformat_minor": 0,
  "metadata": {
    "colab": {
      "provenance": [],
      "include_colab_link": true
    },
    "kernelspec": {
      "name": "python3",
      "display_name": "Python 3"
    },
    "language_info": {
      "name": "python"
    }
  },
  "cells": [
    {
      "cell_type": "markdown",
      "metadata": {
        "id": "view-in-github",
        "colab_type": "text"
      },
      "source": [
        "<a href=\"https://colab.research.google.com/github/aspera17/practicepython/blob/dev/9%EA%B0%95_%EC%8B%A4%EC%8A%B5.ipynb\" target=\"_parent\"><img src=\"https://colab.research.google.com/assets/colab-badge.svg\" alt=\"Open In Colab\"/></a>"
      ]
    },
    {
      "cell_type": "markdown",
      "source": [
        "# 9강 1절"
      ],
      "metadata": {
        "id": "CAj_VKRq4Mhy"
      }
    },
    {
      "cell_type": "markdown",
      "source": [
        "**원뿔 부피 계산 함수 정의**"
      ],
      "metadata": {
        "id": "-0FrgkDm_YRK"
      }
    },
    {
      "cell_type": "code",
      "execution_count": null,
      "metadata": {
        "id": "OhGWjvMSf_uP"
      },
      "outputs": [],
      "source": [
        "def prt_cone_vol(r, h) :\n",
        "    if r > 0 and h > 0 :\n",
        "        # r, h 모두 양수일 때\n",
        "        vol = 1/3 * 3.14 * r ** 2 * h\n",
        "        print(\"원뿔의 부피는\", vol, \"입니다.\")\n",
        "    else :\n",
        "        # r, h가 음수일 때\n",
        "        print(\"반지름과 높이 값에 양수를 입력하세요\")\n"
      ]
    },
    {
      "cell_type": "markdown",
      "source": [
        "**원뿔 부피 계산 함수 호출**"
      ],
      "metadata": {
        "id": "ygj-h_dt_elG"
      }
    },
    {
      "cell_type": "code",
      "source": [
        "radius = 20\n",
        "height = 30\n",
        "\n",
        "prt_cone_vol(radius, height)"
      ],
      "metadata": {
        "id": "Kgl7g457gFnj",
        "colab": {
          "base_uri": "https://localhost:8080/"
        },
        "outputId": "2d25db7b-70a4-43c4-944e-9092efaf0ecd"
      },
      "execution_count": null,
      "outputs": [
        {
          "output_type": "stream",
          "name": "stdout",
          "text": [
            "원뿔의 부피는 12559.999999999998 입니다.\n"
          ]
        }
      ]
    },
    {
      "cell_type": "markdown",
      "source": [
        "**숫자를 입력받고 역순으로 출력하는 함수를 사용한 프로그램 문제**"
      ],
      "metadata": {
        "id": "3T0GpqYK_jXA"
      }
    },
    {
      "cell_type": "code",
      "source": [
        "digits = 1234\n",
        "def reverse_number(num) :\n",
        "    while num != 0 :\n",
        "        digit = num % 10\n",
        "        num = num // 10\n",
        "        print(digit, end=\"\")\n",
        "        # end=\"\"은 개행문자 제거\n",
        "        # // : 정수 나눗셈 연산자\n",
        "\n",
        "reverse_number(digits)"
      ],
      "metadata": {
        "colab": {
          "base_uri": "https://localhost:8080/"
        },
        "id": "Eob1CXl4NNir",
        "outputId": "f4cfbd30-5174-40a7-b8e3-1e3711a3369e"
      },
      "execution_count": null,
      "outputs": [
        {
          "output_type": "stream",
          "name": "stdout",
          "text": [
            "4321"
          ]
        }
      ]
    },
    {
      "cell_type": "code",
      "source": [
        "def reverse_number(num) :\n",
        "    while num != 0 :\n",
        "        digit = num % 10\n",
        "        num = num // 10\n",
        "        print(digit, end=\"\")\n",
        "        # end=\"\"은 개행문자 제거\n",
        "        # // : 정수 나눗셈 연산자\n",
        "\n",
        "num = int(input(\"역순으로 출력할 숫자를 입력하세요: \"))\n",
        "reverse_number(num)"
      ],
      "metadata": {
        "id": "nsHHCmKB_pnQ",
        "colab": {
          "base_uri": "https://localhost:8080/"
        },
        "outputId": "1ae9e5c0-e257-4225-c355-926228c86adf"
      },
      "execution_count": null,
      "outputs": [
        {
          "output_type": "stream",
          "name": "stdout",
          "text": [
            "역순으로 출력할 숫자를 입력하세요: 1234\n",
            "4321"
          ]
        }
      ]
    },
    {
      "cell_type": "markdown",
      "source": [
        "# 9강 2절"
      ],
      "metadata": {
        "id": "bw1IBTsp4wMv"
      }
    },
    {
      "cell_type": "markdown",
      "source": [
        "**원뿔 부피 계산 결과 반환 함수 정의**"
      ],
      "metadata": {
        "id": "454aKvSdAI2a"
      }
    },
    {
      "cell_type": "code",
      "source": [
        "#원뿔 계산 결과 출력결과 형식을 상황에 따라 변경하고 싶다면??\n",
        "def rtn_cone_vol(r, h) :\n",
        "    if r > 0 and h > 0 :\n",
        "        # r, h 모두 양수일 때\n",
        "        vol = 1/3 * 3.14 * r ** 2 * h\n",
        "        return vol\n",
        "    else :\n",
        "        # r, h가 음수일 때\n",
        "        print(\"반지름과 높이 값에 양수를 입력하세요.\")\n",
        "\n",
        "print(format(rtn_cone_vol(10, 20), \"<20.3f\"), \"입니다.\")"
      ],
      "metadata": {
        "id": "X8lfqqRBAQfV",
        "colab": {
          "base_uri": "https://localhost:8080/"
        },
        "outputId": "8cc36a6c-5ac7-4786-b5b2-080735c638ab"
      },
      "execution_count": null,
      "outputs": [
        {
          "output_type": "stream",
          "name": "stdout",
          "text": [
            "2093.333             입니다.\n"
          ]
        }
      ]
    },
    {
      "cell_type": "markdown",
      "source": [
        "**원뿔 부피 및 겉넓이 반환 함수 정의**"
      ],
      "metadata": {
        "id": "Ae2D5Cal_szh"
      }
    },
    {
      "cell_type": "code",
      "source": [
        "#시퀀스 개념 사용\n",
        "\n",
        "def rtn_cone_vol_surf(r, h) :\n",
        "    if r > 0 and h > 0 :\n",
        "        # r, h 모두 양수일 때\n",
        "        vol = 1/3 * 3.14 * r ** 2 * h\n",
        "        surf = 3.14 * r ** 2 + 3.14 * r * h\n",
        "        return vol, surf\n",
        "    else :\n",
        "        # r, h가 음수일 때\n",
        "        print(\"반지름과 높이 값에 양수를 입력하세요.\")\n",
        "\n",
        "#print(rtn_cone_vol_surf(50, 100), \"입니다.\")\n",
        "vol1, surf1 = rtn_cone_vol_surf(50, 100)\n",
        "print(vol1, \"입니다.\")\n",
        "print(surf1, \"입니다.\")"
      ],
      "metadata": {
        "colab": {
          "base_uri": "https://localhost:8080/"
        },
        "id": "Np-2P8IpPyv6",
        "outputId": "c682b4f9-6288-4513-dc16-c9223cc678a3"
      },
      "execution_count": null,
      "outputs": [
        {
          "output_type": "stream",
          "name": "stdout",
          "text": [
            "261666.66666666666 입니다.\n",
            "23550.0 입니다.\n"
          ]
        }
      ]
    },
    {
      "cell_type": "markdown",
      "source": [
        "**세 개의 사용자 입력을 오름차순으로 정렬하는 함수를 이용하여 정렬된 값을 출력하는 문제**\n"
      ],
      "metadata": {
        "id": "0FMNpd_4Ah9j"
      }
    },
    {
      "cell_type": "code",
      "source": [
        "a = int(input(\"첫번째 숫자를 입력하세요: \"))\n",
        "b = int(input(\"두번째 숫자를 입력하세요: \"))\n",
        "c = int(input(\"세번째 숫자를 입력하세요: \"))\n",
        "\n",
        "# 동시할당사용\n",
        "def sort3(a, b, c) :\n",
        "    if a > b :\n",
        "        a, b = b, a\n",
        "    if a > c :\n",
        "        a, c = c, a\n",
        "    if b > c :\n",
        "        b, c = c, a\n",
        "\n",
        "    print(a, b, c)\n",
        "\n",
        "sort3(a, b, c)\n",
        "print(\"출력이후\", a, b, c)\n"
      ],
      "metadata": {
        "id": "toh-zjeLArWn",
        "colab": {
          "base_uri": "https://localhost:8080/"
        },
        "outputId": "537c2849-aafa-4bd0-bc43-ea4f4cacebdf"
      },
      "execution_count": 2,
      "outputs": [
        {
          "output_type": "stream",
          "name": "stdout",
          "text": [
            "첫번째 숫자를 입력하세요: 4\n",
            "두번째 숫자를 입력하세요: 2\n",
            "세번째 숫자를 입력하세요: 1\n",
            "1 2 1\n",
            "출력이후 4 2 1\n"
          ]
        }
      ]
    },
    {
      "cell_type": "markdown",
      "source": [
        "# 9강 3절"
      ],
      "metadata": {
        "id": "7qOMFABd4y1t"
      }
    },
    {
      "cell_type": "markdown",
      "source": [
        "**값의 전달**"
      ],
      "metadata": {
        "id": "pVwxXsFLBCY-"
      }
    },
    {
      "cell_type": "code",
      "source": [
        "x = 1\n",
        "print(\"x의 값은\", x)\n",
        "#inc(x)\n",
        "\n",
        "def inc(x):\n",
        "    x = x + 1\n",
        "    print(\"x의 값은\", x)\n",
        "\n",
        "#inc(x)\n",
        "print(\"x의 값은\", x)\n",
        "#inc(x)"
      ],
      "metadata": {
        "id": "cwoR_CQp45ti",
        "colab": {
          "base_uri": "https://localhost:8080/"
        },
        "outputId": "8a2a1bb5-6805-415e-d2d0-e4c40f521da8"
      },
      "execution_count": 12,
      "outputs": [
        {
          "output_type": "stream",
          "name": "stdout",
          "text": [
            "x의 값은 1\n",
            "x의 값은 1\n",
            "x의 값은 2\n"
          ]
        }
      ]
    },
    {
      "cell_type": "code",
      "source": [
        "def rtn_cone_vol(r, h) :\n",
        "    if r > 0 and h > 0 :\n",
        "        # r, h 모두 양수일 때\n",
        "        vol = 1/3 * 3.14 * r ** 2 * h\n",
        "        r, h = 0, 1\n",
        "        return vol\n",
        "    else :\n",
        "        # r, h가 음수일 때\n",
        "        print(\"반지름과 높이 값에 양수를 입력하세요\")\n",
        "\n",
        "radius = 50\n",
        "height = 100\n",
        "print(format( rtn_cone_vol(radius, height), \">10.3f\"))\n",
        "print(\"함수사용후\", radius, height)\n",
        "\n",
        "r = 50\n",
        "h = 100\n",
        "print(format( rtn_cone_vol(r, h), \">10.3f\"))\n",
        "print(\"함수사용후\", r, h)\n",
        "#값에 의한 전달이므로 함수 내부에서 계산된 값이 함수 외부에는 반영되지 않음"
      ],
      "metadata": {
        "colab": {
          "base_uri": "https://localhost:8080/"
        },
        "id": "JNfrujZzKK7l",
        "outputId": "13ece51a-5c74-4737-f8f3-b4cca61d9a24"
      },
      "execution_count": 15,
      "outputs": [
        {
          "output_type": "stream",
          "name": "stdout",
          "text": [
            "261666.667\n",
            "함수사용후 50 100\n",
            "261666.667\n",
            "함수사용후 50 100\n"
          ]
        }
      ]
    },
    {
      "cell_type": "markdown",
      "source": [
        "**변수의 스코프**"
      ],
      "metadata": {
        "id": "Wybq2K3yBJ8C"
      }
    },
    {
      "cell_type": "code",
      "source": [
        "x = 1\n",
        "print(\"1. x의 값은\", x)\n",
        "\n",
        "def inc():\n",
        "    y = x + 1\n",
        "    print(\"2. y의 값은\", y)\n",
        "\n",
        "inc()\n",
        "print(\"3. x의 값은\", x)\n",
        "#print(\"y의 값은\", y)\n",
        "\n",
        "# x의 범위 : 전역, y의 범위 : 지역 이라 생각하고 이해하기"
      ],
      "metadata": {
        "id": "6ZuNFN9BBWKR",
        "colab": {
          "base_uri": "https://localhost:8080/"
        },
        "outputId": "cd06b2dc-1dc9-4737-f1f4-57298f99978d"
      },
      "execution_count": 18,
      "outputs": [
        {
          "output_type": "stream",
          "name": "stdout",
          "text": [
            "1. x의 값은 1\n",
            "2. y의 값은 2\n",
            "3. x의 값은 1\n"
          ]
        }
      ]
    },
    {
      "cell_type": "markdown",
      "source": [
        "**단위 원뿔(반지름 20, 높이 30)의 부피와 겉넓이를 출력하는 문제**"
      ],
      "metadata": {
        "id": "YDpFj9zqBL35"
      }
    },
    {
      "cell_type": "code",
      "source": [
        "# 원뿔 계산 함수 정의\n",
        "def prt_cone_vol_surf(r = 20, h = 30) :\n",
        "    if r > 0 and h > 0 :\n",
        "        # r, h 모두 양수일 때\n",
        "        vol = 1/3 * 3.14 * r ** 2 * h\n",
        "        surf = 3.14 * r ** 2 + 3.14 * r * h\n",
        "        return vol, surf\n",
        "    else :\n",
        "        # r, h가 음수일 때\n",
        "        print(\"반지름과 높이 값에 양수를 입력하세요\")\n",
        "\n",
        "print(prt_cone_vol_surf())"
      ],
      "metadata": {
        "id": "mzWTObQdBXHc",
        "colab": {
          "base_uri": "https://localhost:8080/"
        },
        "outputId": "2eba798b-9fac-4287-fcb0-7b25b59aa1df"
      },
      "execution_count": 24,
      "outputs": [
        {
          "output_type": "stream",
          "name": "stdout",
          "text": [
            "(12559.999999999998, 3140.0)\n"
          ]
        }
      ]
    },
    {
      "cell_type": "code",
      "source": [
        "# 원뿔 계산 함수 정의\n",
        "# 단위 원뿔?? => 매개변수에 기본값 설정하는 거\n",
        "def rtn_cone_vol_surf(r = 20, h = 30) :\n",
        "    if r > 0 and h > 0 :\n",
        "        # r, h 모두 양수일 때\n",
        "        return 1/3 * 3.14 * r ** 2 * h, 3.14 * r ** 2 + 3.14 * r * h\n",
        "    else :\n",
        "        # r, h가 음수일 때\n",
        "        print(\"반지름과 높이 값에 양수를 입력하세요\")\n",
        "\n",
        "print(rtn_cone_vol_surf())\n",
        "# 매개변수에 기본값 설정해줬기 때문에 값은 전달하지 않아도 에러가 나지 않고 호출된다.\n",
        "\n",
        "print(rtn_cone_vol_surf(100, 200))"
      ],
      "metadata": {
        "colab": {
          "base_uri": "https://localhost:8080/"
        },
        "id": "sahG9U_wLolE",
        "outputId": "fca2dcc2-eff5-476a-d068-9f5313ccfd48"
      },
      "execution_count": 23,
      "outputs": [
        {
          "output_type": "stream",
          "name": "stdout",
          "text": [
            "(12559.999999999998, 3140.0)\n",
            "(2093333.3333333333, 94200.0)\n"
          ]
        }
      ]
    },
    {
      "cell_type": "markdown",
      "source": [
        "### **가변 매개변수 활용 : 반지름은 10이고 높이가 1, 5, 14, 26, 31인 원뿔의 부피와 겉넓이를 각각 **출력하는** 문제**"
      ],
      "metadata": {
        "id": "6YMfoJMTIviy"
      }
    },
    {
      "cell_type": "code",
      "source": [
        "# 7강\n",
        "rad = 10\n",
        "hei_list = [1, 5, 14, 26, 31]\n",
        "\n",
        "for hei in hei_list :\n",
        "    #부피&겉넓이 계산\n",
        "    vol = 1/3 * 3.14 * rad ** 2 * hei\n",
        "    surf = 3.14 * rad ** 2 + 3.14 * rad * hei\n",
        "    print(\"반지름\", rad, \"높이\", hei, \"원뿔\")\n",
        "    print(\"원뿔의 부피는\" ,vol, \"입니다.\")\n",
        "    print(\"원뿔의 겉넓이는\" ,surf, \"입니다\")"
      ],
      "metadata": {
        "colab": {
          "base_uri": "https://localhost:8080/"
        },
        "id": "ayDBIsS2Qt3S",
        "outputId": "a5511f3f-cd4c-4016-dbad-abe08259ebb3"
      },
      "execution_count": 37,
      "outputs": [
        {
          "output_type": "stream",
          "name": "stdout",
          "text": [
            "반지름 10 높이 1 원뿔\n",
            "원뿔의 부피는 104.66666666666666 입니다.\n",
            "원뿔의 겉넓이는 345.4 입니다\n",
            "반지름 10 높이 5 원뿔\n",
            "원뿔의 부피는 523.3333333333333 입니다.\n",
            "원뿔의 겉넓이는 471.0 입니다\n",
            "반지름 10 높이 14 원뿔\n",
            "원뿔의 부피는 1465.3333333333333 입니다.\n",
            "원뿔의 겉넓이는 753.6 입니다\n",
            "반지름 10 높이 26 원뿔\n",
            "원뿔의 부피는 2721.333333333333 입니다.\n",
            "원뿔의 겉넓이는 1130.4 입니다\n",
            "반지름 10 높이 31 원뿔\n",
            "원뿔의 부피는 3244.6666666666665 입니다.\n",
            "원뿔의 겉넓이는 1287.4 입니다\n"
          ]
        }
      ]
    },
    {
      "cell_type": "code",
      "source": [
        "# 원뿔 계산 함수 정의\n",
        "def rtn_cone_vol_surf(rad, *hei_list) :\n",
        "    for hei in hei_list:\n",
        "        if hei > 0 :\n",
        "            vol = 1/3 * 3.14 * rad ** 2 * hei\n",
        "            surf = 3.14 * rad ** 2 + 3.14 * rad * hei\n",
        "            print(\"반지름\", rad, \"높이\", hei, \"원뿔\")\n",
        "            print(\"원뿔의 부피는\" ,vol, \"입니다.\")\n",
        "            print(\"원뿔의 겉넓이는\" ,surf, \"입니다\")\n",
        "        else :\n",
        "        # r, h가 음수일 때\n",
        "            print(\"높이 값에 양수를 입력하세요\")\n",
        "\n",
        "print(rtn_cone_vol_surf(10, 1, 5, 14, 26, 31))"
      ],
      "metadata": {
        "colab": {
          "base_uri": "https://localhost:8080/"
        },
        "id": "FlW2q0XgItHv",
        "outputId": "35196516-c0ce-405f-98eb-52629c10cd13"
      },
      "execution_count": 52,
      "outputs": [
        {
          "output_type": "stream",
          "name": "stdout",
          "text": [
            "반지름 10 높이 1 원뿔\n",
            "원뿔의 부피는 104.66666666666666 입니다.\n",
            "원뿔의 겉넓이는 345.4 입니다\n",
            "반지름 10 높이 5 원뿔\n",
            "원뿔의 부피는 523.3333333333333 입니다.\n",
            "원뿔의 겉넓이는 471.0 입니다\n",
            "반지름 10 높이 14 원뿔\n",
            "원뿔의 부피는 1465.3333333333333 입니다.\n",
            "원뿔의 겉넓이는 753.6 입니다\n",
            "반지름 10 높이 26 원뿔\n",
            "원뿔의 부피는 2721.333333333333 입니다.\n",
            "원뿔의 겉넓이는 1130.4 입니다\n",
            "반지름 10 높이 31 원뿔\n",
            "원뿔의 부피는 3244.6666666666665 입니다.\n",
            "원뿔의 겉넓이는 1287.4 입니다\n",
            "None\n"
          ]
        }
      ]
    },
    {
      "cell_type": "code",
      "source": [
        "# 원뿔 계산 함수 정의\n",
        "def rtn_cone_vol_surf(*hei_list) :\n",
        "    rad = 10\n",
        "    for hei in hei_list:\n",
        "        if hei > 0 :\n",
        "            vol = 1/3 * 3.14 * rad ** 2 * hei\n",
        "            surf = 3.14 * rad ** 2 + 3.14 * rad * hei\n",
        "            print(\"반지름\", rad, \"높이\", hei, \"원뿔\")\n",
        "            print(\"원뿔의 부피는\" ,vol, \"입니다.\")\n",
        "            print(\"원뿔의 겉넓이는\" ,surf, \"입니다\")\n",
        "        else :\n",
        "        # r, h가 음수일 때\n",
        "            print(\"높이 값에 양수를 입력하세요\")\n",
        "\n",
        "print(rtn_cone_vol_surf(1, 5, 14, 26, 31))"
      ],
      "metadata": {
        "colab": {
          "base_uri": "https://localhost:8080/"
        },
        "id": "M_A1TW9xR1MW",
        "outputId": "f8670c29-6008-41e3-d8e4-58abacfa04ad"
      },
      "execution_count": 44,
      "outputs": [
        {
          "output_type": "stream",
          "name": "stdout",
          "text": [
            "반지름 10 높이 1 원뿔\n",
            "원뿔의 부피는 104.66666666666666 입니다.\n",
            "원뿔의 겉넓이는 345.4 입니다\n",
            "반지름 10 높이 5 원뿔\n",
            "원뿔의 부피는 523.3333333333333 입니다.\n",
            "원뿔의 겉넓이는 471.0 입니다\n",
            "반지름 10 높이 14 원뿔\n",
            "원뿔의 부피는 1465.3333333333333 입니다.\n",
            "원뿔의 겉넓이는 753.6 입니다\n",
            "반지름 10 높이 26 원뿔\n",
            "원뿔의 부피는 2721.333333333333 입니다.\n",
            "원뿔의 겉넓이는 1130.4 입니다\n",
            "반지름 10 높이 31 원뿔\n",
            "원뿔의 부피는 3244.6666666666665 입니다.\n",
            "원뿔의 겉넓이는 1287.4 입니다\n",
            "None\n"
          ]
        }
      ]
    },
    {
      "cell_type": "markdown",
      "source": [
        "**여러개의 수를 입력받고 합과 평균을 반환하는는 var_sum_avg 함수를 사용하여, (20, 25, 10, 85, 100, 150)에 대한 합과 평균을 출력하는 프로그램을 작성하시오.**\n"
      ],
      "metadata": {
        "id": "WqqJAJ0ACOjj"
      }
    },
    {
      "cell_type": "code",
      "source": [
        "#파라미터의 개수가 정해지지 않았다면? 파라미터로 넘어오는 값들은 시퀀스의 형태로 전달\n",
        "#시퀀스의 형태로 전달된다면 반복이 사용될 것"
      ],
      "metadata": {
        "id": "GDZkR-SKCVth"
      },
      "execution_count": null,
      "outputs": []
    },
    {
      "cell_type": "code",
      "source": [
        "#함수를 먼저 만드는 것을 고민하지 말고, 작동시켜야 할 것을 먼저 구성해 볼 것\n",
        "# 함수를 만들기 위한 구조 먼저\n",
        "sum = 0\n",
        "count = 0\n",
        "\n",
        "for i in num_list:\n",
        "    sum = sum + i\n",
        "    count = count + 1\n",
        "\n",
        "return sum, sum/count"
      ],
      "metadata": {
        "id": "pI0rVn1ANQxI"
      },
      "execution_count": null,
      "outputs": []
    },
    {
      "cell_type": "code",
      "source": [
        "def var_sum_avg(*numbers):\n",
        "    sum = 0\n",
        "    count = 0\n",
        "\n",
        "    for i in numbers:\n",
        "        sum = sum + i\n",
        "        count = count + 1\n",
        "\n",
        "    return sum, sum/count\n",
        "\n",
        "print(var_sum_avg(20, 25, 10, 85, 100, 150))"
      ],
      "metadata": {
        "colab": {
          "base_uri": "https://localhost:8080/"
        },
        "id": "_VamdwxONcIt",
        "outputId": "a1a97372-6095-401f-c776-708bd3456a5d"
      },
      "execution_count": 32,
      "outputs": [
        {
          "output_type": "stream",
          "name": "stdout",
          "text": [
            "(390, 65.0)\n"
          ]
        }
      ]
    }
  ]
}