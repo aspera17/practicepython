{
  "nbformat": 4,
  "nbformat_minor": 0,
  "metadata": {
    "colab": {
      "provenance": [],
      "include_colab_link": true
    },
    "kernelspec": {
      "name": "python3",
      "display_name": "Python 3"
    },
    "language_info": {
      "name": "python"
    }
  },
  "cells": [
    {
      "cell_type": "markdown",
      "metadata": {
        "id": "view-in-github",
        "colab_type": "text"
      },
      "source": [
        "<a href=\"https://colab.research.google.com/github/aspera17/practicepython/blob/develop/6%EA%B0%95_%EC%8B%A4%EC%8A%B5.ipynb\" target=\"_parent\"><img src=\"https://colab.research.google.com/assets/colab-badge.svg\" alt=\"Open In Colab\"/></a>"
      ]
    },
    {
      "cell_type": "markdown",
      "source": [
        "# 6장 1절"
      ],
      "metadata": {
        "id": "hckgpz65oDBv"
      }
    },
    {
      "cell_type": "code",
      "source": [
        "rad = 10\n",
        "rad == 10"
      ],
      "metadata": {
        "colab": {
          "base_uri": "https://localhost:8080/"
        },
        "id": "IBH9V9Z5KamP",
        "outputId": "dc6aac46-c66d-4829-a27c-bd7444927ea3"
      },
      "execution_count": null,
      "outputs": [
        {
          "output_type": "execute_result",
          "data": {
            "text/plain": [
              "True"
            ]
          },
          "metadata": {},
          "execution_count": 4
        }
      ]
    },
    {
      "cell_type": "code",
      "source": [
        "light_on = 3 > 6\n",
        "print(light_on)"
      ],
      "metadata": {
        "colab": {
          "base_uri": "https://localhost:8080/"
        },
        "id": "TMsElZ_CK_EU",
        "outputId": "80253391-831c-40b7-8833-5814c28c6f00"
      },
      "execution_count": null,
      "outputs": [
        {
          "output_type": "stream",
          "name": "stdout",
          "text": [
            "False\n"
          ]
        }
      ]
    },
    {
      "cell_type": "code",
      "source": [
        "suf = 10\n",
        "vol = 20\n",
        "isStop = suf = vol\n",
        "print(isStop)"
      ],
      "metadata": {
        "colab": {
          "base_uri": "https://localhost:8080/"
        },
        "id": "JeYj8q21LIL3",
        "outputId": "2b315b7c-a184-464e-f8a2-e10d5b686065"
      },
      "execution_count": null,
      "outputs": [
        {
          "output_type": "stream",
          "name": "stdout",
          "text": [
            "20\n"
          ]
        }
      ]
    },
    {
      "cell_type": "code",
      "execution_count": null,
      "metadata": {
        "id": "ZW1w8qQHoAm3",
        "colab": {
          "base_uri": "https://localhost:8080/"
        },
        "outputId": "f25f0afc-7ad1-4063-f2e6-9d95e65da4b2"
      },
      "outputs": [
        {
          "output_type": "stream",
          "name": "stdout",
          "text": [
            "반지름을 입력하세요:-20\n",
            "높이를 입력하세요:30\n",
            "원뿔의 부피는 12559.999999999998 입니다.\n",
            "원뿔의 겉넓이는 -628.0000000000002 입니다\n"
          ]
        }
      ],
      "source": [
        "#반지름 사용자 입력\n",
        "rad = int(input(\"반지름을 입력하세요:\"))\n",
        "#높이 사용자 입력\n",
        "hei = int(input(\"높이를 입력하세요:\"))\n",
        "\n",
        "#**반지름의 값이 음수일 때 계산되지 않도록 하려면?\n",
        "if rad > 0 :\n",
        "    #부피&겉넓이 계산\n",
        "    vol = 1/3 * 3.14 * rad ** 2 * hei\n",
        "    suf = 3.14 * rad ** 2 + 3.14 * rad * hei\n",
        "    print(\"원뿔의 부피는\" ,vol, \"입니다.\")\n",
        "    print(\"원뿔의 겉넓이는\" ,suf, \"입니다\")"
      ]
    },
    {
      "cell_type": "markdown",
      "source": [],
      "metadata": {
        "id": "gIxdfGagpB53"
      }
    },
    {
      "cell_type": "markdown",
      "source": [
        "# 6강 2절"
      ],
      "metadata": {
        "id": "cquz2vj9oGml"
      }
    },
    {
      "cell_type": "code",
      "source": [
        "#논리연산자 and, or, not\n",
        "temp = 20\n",
        "fruit = \"apple\"\n",
        "\n",
        "print(temp >= 27 and fruit == \"pear\")\n",
        "print(temp <= 27 and fruit == \"pear\")\n",
        "print(temp <= 27 or fruit == \"pear\")\n",
        "print(not temp <= 27)"
      ],
      "metadata": {
        "colab": {
          "base_uri": "https://localhost:8080/"
        },
        "id": "nRHfWYrLNrAx",
        "outputId": "7b3548e8-4898-4ef2-9dee-26467fcf7faa"
      },
      "execution_count": null,
      "outputs": [
        {
          "output_type": "stream",
          "name": "stdout",
          "text": [
            "False\n",
            "False\n",
            "True\n",
            "False\n"
          ]
        }
      ]
    },
    {
      "cell_type": "code",
      "source": [
        "#반지름 사용자 입력\n",
        "rad = int(input(\"반지름을 입력하세요:\"))\n",
        "#높이 사용자 입력\n",
        "hei = int(input(\"높이를 입력하세요:\"))\n",
        "\n",
        "#**반지름, 높이의 값이 음수일 때 계산되지 않도록 하려면?(논리연산자 and 사용)\n",
        "if rad > 0 and hei > 0 :\n",
        "    #부피&겉넓이 계산\n",
        "    vol = 1/3 * 3.14 * rad ** 2 * hei\n",
        "    suf = 3.14 * rad ** 2 + 3.14 * rad * hei\n",
        "    print(\"원뿔의 부피는\" ,vol, \"입니다.\")\n",
        "    print(\"원뿔의 겉넓이는\" ,suf, \"입니다\")"
      ],
      "metadata": {
        "id": "SuPkvKRSoJBE"
      },
      "execution_count": null,
      "outputs": []
    },
    {
      "cell_type": "markdown",
      "source": [
        "# 6강 3절"
      ],
      "metadata": {
        "id": "jp-zrYSETW25"
      }
    },
    {
      "cell_type": "code",
      "source": [
        "else를 이용한 원뿔 프로그램 개선\n",
        "#반지름 사용자 입력\n",
        "rad = int(input(\"반지름을 입력하세요:\"))\n",
        "#높이 사용자 입력\n",
        "hei = int(input(\"높이를 입력하세요:\"))\n",
        "\n",
        "#**반지름, 높이의 값이 음수일 때 계산되지 않도록 하려면?\n",
        "if rad > 0 and hei > 0 :\n",
        "    #부피&겉넓이 계산\n",
        "    vol = 1/3 * 3.14 * rad ** 2 * hei\n",
        "    suf = 3.14 * rad ** 2 + 3.14 * rad * hei\n",
        "    print(\"원뿔의 부피는\" ,vol, \"입니다.\")\n",
        "    print(\"원뿔의 겉넓이는\" ,suf, \"입니다\")\n",
        "else :\n",
        "    print(\"반지름과 높이의 값을 모두 양수로 입력해주세요\")"
      ],
      "metadata": {
        "id": "EObn5tLkTa0W"
      },
      "execution_count": null,
      "outputs": []
    },
    {
      "cell_type": "markdown",
      "source": [
        "가장 큰 수 찾는 프로그램"
      ],
      "metadata": {
        "id": "_2ZlVieZpKuT"
      }
    },
    {
      "cell_type": "code",
      "source": [
        "#A, B, C 사용자 입력\n",
        "A = int(input(\"A 입력: \"))\n",
        "B = int(input(\"B 입력: \"))\n",
        "C = int(input(\"C 입력: \"))\n",
        "\n",
        "#A, B, C 중 가장 큰 수 출력\n",
        "if A > B :\n",
        "    if A > C :\n",
        "        print(A)\n",
        "    else :\n",
        "        print(C)\n",
        "else :\n",
        "    if B > C :\n",
        "      print(B)\n",
        "    else :\n",
        "    print(C)\n"
      ],
      "metadata": {
        "id": "ur_RN5PTUYHQ"
      },
      "execution_count": null,
      "outputs": []
    }
  ]
}